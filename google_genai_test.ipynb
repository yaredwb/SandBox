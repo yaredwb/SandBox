{
 "cells": [
  {
   "cell_type": "code",
   "execution_count": 23,
   "metadata": {},
   "outputs": [],
   "source": [
    "import pathlib\n",
    "import textwrap\n",
    "\n",
    "import google.generativeai as genai\n",
    "\n",
    "from IPython.display import display\n",
    "from IPython.display import Markdown\n",
    "\n",
    "\n",
    "def to_markdown(text):\n",
    "  text = text.replace('•', '  *')\n",
    "  return Markdown(textwrap.indent(text, '> ', predicate=lambda _: True))"
   ]
  },
  {
   "cell_type": "code",
   "execution_count": 24,
   "metadata": {},
   "outputs": [],
   "source": [
    "# import os\n",
    "# os.getenv('GOOGLE_API_KEY')"
   ]
  },
  {
   "cell_type": "code",
   "execution_count": 25,
   "metadata": {},
   "outputs": [
    {
     "name": "stdout",
     "output_type": "stream",
     "text": [
      "models/gemini-1.0-pro\n",
      "models/gemini-1.0-pro-001\n",
      "models/gemini-1.0-pro-latest\n",
      "models/gemini-1.0-pro-vision-latest\n",
      "models/gemini-1.5-flash-latest\n",
      "models/gemini-1.5-pro-latest\n",
      "models/gemini-pro\n",
      "models/gemini-pro-vision\n"
     ]
    }
   ],
   "source": [
    "for m in genai.list_models():\n",
    "  if 'generateContent' in m.supported_generation_methods:\n",
    "    print(m.name)"
   ]
  },
  {
   "cell_type": "code",
   "execution_count": 26,
   "metadata": {},
   "outputs": [
    {
     "data": {
      "text/markdown": [
       "> As a large language model, I don't have personal opinions or beliefs. I'm not able to tell you the meaning of life, because that's a question that has been pondered by philosophers and individuals for centuries! \n",
       "> \n",
       "> What I *can* tell you is that the meaning of life is subjective and personal.  There's no one answer that fits everyone.  \n",
       "> \n",
       "> Here are some common approaches people take to find meaning:\n",
       "> \n",
       "> * **Purpose:** Some find meaning in having a purpose, whether it's a career, raising a family, contributing to society, or pursuing a passion.\n",
       "> * **Connection:** For others, meaning comes from forming deep connections with other people, experiencing love, and building relationships.\n",
       "> * **Growth:** Many find meaning in personal growth and learning. This could involve developing skills, exploring new ideas, and expanding their understanding of the world.\n",
       "> * **Contribution:** Some find meaning in making a difference in the world, helping others, and leaving a positive impact.\n",
       "> * **Experiences:** Meaning can also be found in the richness of life's experiences, from travel and adventure to art, music, and nature.\n",
       "> \n",
       "> The search for meaning is a journey.  It's up to each individual to find what gives their life meaning and purpose. \n",
       "> \n",
       "> **Would you like to explore some of these ideas further?  Perhaps we could discuss different philosophical perspectives on the meaning of life, or I could provide you with information on specific areas you're interested in.** \n"
      ],
      "text/plain": [
       "<IPython.core.display.Markdown object>"
      ]
     },
     "execution_count": 26,
     "metadata": {},
     "output_type": "execute_result"
    }
   ],
   "source": [
    "model = genai.GenerativeModel('gemini-1.5-pro-latest')\n",
    "response = model.generate_content(\"What is the meaning of life?\")\n",
    "to_markdown(response.text)"
   ]
  },
  {
   "cell_type": "code",
   "execution_count": null,
   "metadata": {},
   "outputs": [],
   "source": []
  }
 ],
 "metadata": {
  "kernelspec": {
   "display_name": "Python 3",
   "language": "python",
   "name": "python3"
  },
  "language_info": {
   "codemirror_mode": {
    "name": "ipython",
    "version": 3
   },
   "file_extension": ".py",
   "mimetype": "text/x-python",
   "name": "python",
   "nbconvert_exporter": "python",
   "pygments_lexer": "ipython3",
   "version": "3.12.3"
  }
 },
 "nbformat": 4,
 "nbformat_minor": 2
}
