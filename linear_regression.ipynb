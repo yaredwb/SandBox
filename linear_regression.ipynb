{
 "cells": [
  {
   "cell_type": "code",
   "execution_count": 1,
   "metadata": {},
   "outputs": [],
   "source": [
    "import numpy as np\n",
    "import matplotlib.pyplot as plt\n",
    "from sklearn.linear_model import LinearRegression"
   ]
  },
  {
   "cell_type": "markdown",
   "metadata": {},
   "source": [
    "## Simple linear regression\n",
    "\n",
    "A linear regression model finds weights for a linear combination of features:\n",
    "$$\n",
    "y = w_0 + w_1 x_1 + w_2 x_2 + ... + w_n x_n = \\pmb{w} \\pmb{X}\n",
    "$$\n",
    "\n",
    "The direct solution for linear regression (called **Normal Equation**) is:\n",
    "$$\n",
    "\\hat{\\pmb{w}} = (\\pmb{X}^T \\pmb{X})^{-1} \\pmb{X}^T \\pmb{y}\n",
    "$$\n",
    "\n",
    "For predictions based on $ \\hat{\\pmb{w}} $,\n",
    "$$\n",
    "\\hat{y} = \\hat{\\pmb{w}} \\pmb{X}\n",
    "$$\n",
    "\n",
    "The mean squared error is then\n",
    "$$\n",
    "MSE = \\frac{1}{n} \\sum_{i=1}^n (\\hat{y}_i - y_i)^2\n",
    "$$"
   ]
  },
  {
   "cell_type": "code",
   "execution_count": 2,
   "metadata": {},
   "outputs": [],
   "source": [
    "# Example from Aurelien Geron's bookS\n",
    "X = 2 * np.random.rand(100, 1)\n",
    "y = 4 + 3 * X + np.random.randn(100, 1)"
   ]
  },
  {
   "cell_type": "code",
   "execution_count": 3,
   "metadata": {},
   "outputs": [
    {
     "data": {
      "text/plain": [
       "array([[4.00576475],\n",
       "       [3.02949242]])"
      ]
     },
     "execution_count": 3,
     "metadata": {},
     "output_type": "execute_result"
    }
   ],
   "source": [
    "# Compute the linear regression coefficients using the normal equation\n",
    "X_mod = np.c_[np.ones((100, 1)), X] # add x0 = 1 to each instance so that we also calculate w0\n",
    "w_NE = np.linalg.inv(X_mod.T.dot(X_mod)).dot(X_mod.T).dot(y) # weights using the normal equation\n",
    "w_NE"
   ]
  },
  {
   "cell_type": "code",
   "execution_count": 4,
   "metadata": {},
   "outputs": [
    {
     "data": {
      "text/plain": [
       "array([[ 4.00576475],\n",
       "       [10.06474958]])"
      ]
     },
     "execution_count": 4,
     "metadata": {},
     "output_type": "execute_result"
    }
   ],
   "source": [
    "# Making predictions using the weights from the normal equation\n",
    "X_test = np.array([[0], [2]])\n",
    "X_test_mod = np.c_[np.ones((2, 1)), X_test] # add x0 = 1 to each instance so that we also calculate w0\n",
    "y_predict = X_test_mod.dot(w_NE)\n",
    "y_predict"
   ]
  },
  {
   "cell_type": "code",
   "execution_count": 5,
   "metadata": {},
   "outputs": [
    {
     "data": {
      "image/png": "[encoded data removed]",
      "text/plain": [
       "<Figure size 432x288 with 1 Axes>"
      ]
     },
     "metadata": {
      "needs_background": "light"
     },
     "output_type": "display_data"
    }
   ],
   "source": [
    "plt.plot(X_test, y_predict, \"r-\")\n",
    "plt.plot(X, y, \"b.\")\n",
    "plt.axis([0, 2, 0, 15])\n",
    "plt.show()"
   ]
  },
  {
   "cell_type": "code",
   "execution_count": 6,
   "metadata": {},
   "outputs": [
    {
     "data": {
      "text/plain": [
       "(array([4.00576475]), array([[3.02949242]]))"
      ]
     },
     "execution_count": 6,
     "metadata": {},
     "output_type": "execute_result"
    }
   ],
   "source": [
    "lin_reg = LinearRegression()\n",
    "lin_reg.fit(X, y)\n",
    "lin_reg.intercept_, lin_reg.coef_"
   ]
  },
  {
   "cell_type": "code",
   "execution_count": 7,
   "metadata": {},
   "outputs": [],
   "source": [
    "X_test = np.linspace(0, 2, 100).reshape(100, 1)\n",
    "y_predict = lin_reg.predict(X_test)"
   ]
  },
  {
   "cell_type": "code",
   "execution_count": 8,
   "metadata": {},
   "outputs": [
    {
     "data": {
      "text/plain": [
       "0.905570913244562"
      ]
     },
     "execution_count": 8,
     "metadata": {},
     "output_type": "execute_result"
    }
   ],
   "source": [
    "# Calculate the mean squared error\n",
    "y_test = 4 + 3 * X_test + np.random.randn(100, 1)\n",
    "mean_squared_error = np.mean((y_predict - y_test) ** 2)\n",
    "mean_squared_error"
   ]
  },
  {
   "cell_type": "markdown",
   "metadata": {},
   "source": [
    "## Linear regression with gradient descent "
   ]
  },
  {
   "cell_type": "markdown",
   "metadata": {},
   "source": [
    "In gradient descent alogrithms, the weights are updated using the gradient of the cost function. The weight update equation is given by:\n",
    "$$\n",
    "\\pmb{w}_{i+1} = \\pmb{w}_{i} - \\eta \\nabla_{\\pmb{w}} MSE(\\pmb{w}_{i})\n",
    "$$\n",
    "where $ \\eta $ is the learning rate and the gradient of the cost function is:\n",
    "$$\n",
    "\\nabla_{\\pmb{w}} MSE(\\pmb{w}_{i}) = \\frac{2}{m} \\pmb{X}^T \\pmb{X} \\pmb{w}_{i} - \\pmb{X}^T \\pmb{y}\n",
    "$$\n",
    "where $ m $ is the number of training examples."
   ]
  },
  {
   "cell_type": "code",
   "execution_count": 9,
   "metadata": {},
   "outputs": [],
   "source": [
    "# Define X and y again for clarity\n",
    "X = 2 * np.random.rand(100, 1)\n",
    "y = 4 + 3 * X + np.random.randn(100, 1)\n",
    "\n",
    "# Modify X to add a column of ones for the intercept\n",
    "X_mod = np.c_[np.ones((100, 1)), X]\n",
    "\n",
    "# Define X_test\n",
    "X_test = np.array([[0], [2]])\n",
    "X_test_mod = np.c_[np.ones((2, 1)), X_test]"
   ]
  },
  {
   "cell_type": "code",
   "execution_count": 10,
   "metadata": {},
   "outputs": [],
   "source": [
    "eta = 0.1\n",
    "n_iterations = 1000\n",
    "m = 100\n",
    "\n",
    "w = np.random.randn(2, 1)\n",
    "for iteration in range(n_iterations):\n",
    "    gradients = 2 / m * X_mod.T.dot(X_mod.dot(w) - y)\n",
    "    w = w - eta * gradients"
   ]
  },
  {
   "cell_type": "code",
   "execution_count": 11,
   "metadata": {},
   "outputs": [
    {
     "name": "stdout",
     "output_type": "stream",
     "text": [
      "The final weights are:\n",
      " [[3.84267933]\n",
      " [3.09866489]]\n"
     ]
    }
   ],
   "source": [
    "print(\"The final weights are:\\n\", w)"
   ]
  },
  {
   "cell_type": "code",
   "execution_count": 12,
   "metadata": {},
   "outputs": [
    {
     "name": "stdout",
     "output_type": "stream",
     "text": [
      "The predicted y values are:\n",
      " [[ 3.84267933]\n",
      " [10.04000911]]\n"
     ]
    }
   ],
   "source": [
    "print(\"The predicted y values are:\\n\", X_test_mod.dot(w))"
   ]
  },
  {
   "cell_type": "markdown",
   "metadata": {},
   "source": [
    "To investigate the effect of the learning rate $\\eta$ on the convergence of the gradient descent algorithm, we can plot the predicted values of the model and see how the weights converge with the number of iterations."
   ]
  },
  {
   "cell_type": "code",
   "execution_count": 13,
   "metadata": {},
   "outputs": [],
   "source": [
    "w_path = []\n",
    "def plot_gradient_descent(w, eta, w_path=None):\n",
    "    m = len(X_mod)\n",
    "    plt.plot(X, y, \"b.\")\n",
    "    plt.xlabel(\"x\")\n",
    "    plt.ylabel(\"y\")\n",
    "    n_iterations = 1000\n",
    "    for i in range(n_iterations):\n",
    "        if i < 10:\n",
    "            y_predict = X_test_mod.dot(w)\n",
    "            style = \"r-\" if i > 0 else \"b--\"\n",
    "            plt.plot(X_test_mod, y_predict, style)\n",
    "        grads = (2 / m) * X_mod.T.dot(X_mod.dot(w) - y)\n",
    "        w = w - eta * grads\n",
    "        if w_path is not None:\n",
    "            w_path.append(w)\n",
    "    plt.axis([0, 2, 0, 15])\n",
    "    plt.title(r\"$\\eta = {}$\".format(eta))"
   ]
  },
  {
   "cell_type": "code",
   "execution_count": 14,
   "metadata": {},
   "outputs": [
    {
     "data": {
      "image/png": "[encoded data removed]",
      "text/plain": [
       "<Figure size 432x288 with 1 Axes>"
      ]
     },
     "metadata": {
      "needs_background": "light"
     },
     "output_type": "display_data"
    }
   ],
   "source": [
    "np.random.seed(42)\n",
    "w = np.random.randn(2, 1)\n",
    "plot_gradient_descent(w, eta=0.02, w_path=w_path)"
   ]
  },
  {
   "cell_type": "code",
   "execution_count": 15,
   "metadata": {},
   "outputs": [
    {
     "data": {
      "image/png": "[encoded data removed]",
      "text/plain": [
       "<Figure size 432x288 with 1 Axes>"
      ]
     },
     "metadata": {
      "needs_background": "light"
     },
     "output_type": "display_data"
    }
   ],
   "source": [
    "plot_gradient_descent(w, eta=0.1, w_path=w_path)"
   ]
  },
  {
   "cell_type": "code",
   "execution_count": 16,
   "metadata": {},
   "outputs": [
    {
     "data": {
      "image/png": "[encoded data removed]",
      "text/plain": [
       "<Figure size 432x288 with 1 Axes>"
      ]
     },
     "metadata": {
      "needs_background": "light"
     },
     "output_type": "display_data"
    }
   ],
   "source": [
    "plot_gradient_descent(w, eta=0.5)"
   ]
  },
  {
   "cell_type": "markdown",
   "metadata": {},
   "source": [
    "## Linear regression with stochastic gradient descent"
   ]
  },
  {
   "cell_type": "markdown",
   "metadata": {},
   "source": [
    "Gradient descent (also called Batch gradient descent) uses full training set to update the weights. This may not be appropriate for large datasets. Stochastic gradient descent is a variant of gradient descent that uses a random instance from the training examples to update the weights. The  weights are updated after training with each instance. The stochastic gradient descent algorithm is similar to gradient descent i.e.:\n",
    "$$\n",
    "\\pmb{w}_{i+1} = \\pmb{w}_{i} - \\eta \\nabla_{\\pmb{w}} MSE(\\pmb{w}_{i})\n",
    "$$\n",
    "with the differece that the weight are updated using a random sample from the training examples $\\pmb{X}_{sample}$ instead of the full training set $\\pmb{X}$ i.e.:\n",
    "$$\n",
    "\\nabla_{\\pmb{w}} MSE(\\pmb{w}_{i}) = \\frac{2}{m} \\pmb{X}_{instance}^T \\pmb{X}_{instance} \\pmb{w}_{i} - \\pmb{X}_{instance}^T \\pmb{y}_{instance}\n",
    "$$"
   ]
  },
  {
   "cell_type": "code",
   "execution_count": 17,
   "metadata": {},
   "outputs": [],
   "source": [
    "# Function to schedule the learning rate\n",
    "def schedule_eta(x):\n",
    "    return 5 / (x + 50)"
   ]
  },
  {
   "cell_type": "code",
   "execution_count": 25,
   "metadata": {},
   "outputs": [],
   "source": [
    "# Stochastic Gradient Descent function\n",
    "w_path_sgd = []\n",
    "def plot_stochastic_gradient_descent(w, epochs, w_path_sgd=None):\n",
    "    plt.plot(X, y, \"b.\")\n",
    "    plt.xlabel(\"x\")\n",
    "    plt.ylabel(\"y\")\n",
    "    for epoch in range(epochs):\n",
    "        for i in range(m):\n",
    "            if epoch == 0 and i < 20:\n",
    "                y_predict = X_test_mod.dot(w)\n",
    "                style = \"r-\" if i > 0 else \"b--\"\n",
    "                plt.plot(X_test_mod, y_predict, style)\n",
    "            # Randomly select a training example\n",
    "            random_index = np.random.randint(m)\n",
    "            X_instance = X_mod[random_index:random_index + 1]\n",
    "            y_instance = y[random_index:random_index + 1]\n",
    "            # Calculate the gradients\n",
    "            grads = (2 / m) * X_instance.T.dot(X_instance.dot(w) - y_instance)\n",
    "            # Get the current learning rate\n",
    "            eta = schedule_eta(epoch * m + i)\n",
    "            # Update the weights\n",
    "            w = w - eta * grads\n",
    "            # Store the weights after each epoch\n",
    "            if w_path_sgd is not None:\n",
    "                w_path_sgd.append(w)\n",
    "    plt.axis([0, 2, 0, 15])"
   ]
  },
  {
   "cell_type": "code",
   "execution_count": 26,
   "metadata": {},
   "outputs": [
    {
     "data": {
      "image/png": "[encoded data removed]",
      "text/plain": [
       "<Figure size 432x288 with 1 Axes>"
      ]
     },
     "metadata": {
      "needs_background": "light"
     },
     "output_type": "display_data"
    }
   ],
   "source": [
    "np.random.seed(42)\n",
    "w = np.random.randn(2, 1)\n",
    "m = len(X_mod)\n",
    "epochs = 50\n",
    "plot_stochastic_gradient_descent(w, epochs=epochs)"
   ]
  },
  {
   "cell_type": "code",
   "execution_count": 27,
   "metadata": {},
   "outputs": [
    {
     "data": {
      "text/plain": [
       "SGDRegressor(eta0=0.1, max_iter=50, penalty=None, random_state=42)"
      ]
     },
     "execution_count": 27,
     "metadata": {},
     "output_type": "execute_result"
    }
   ],
   "source": [
    "# Try the stochastic gradient descent built-in to sklearn\n",
    "from sklearn.linear_model import SGDRegressor\n",
    "sgd_reg = SGDRegressor(max_iter=epochs, tol=1e-3, penalty=None, eta0=0.1, random_state=42)\n",
    "sgd_reg.fit(X, y.ravel()) "
   ]
  },
  {
   "cell_type": "code",
   "execution_count": 28,
   "metadata": {},
   "outputs": [
    {
     "name": "stdout",
     "output_type": "stream",
     "text": [
      "3.087508011030419 3.8271676725288417\n"
     ]
    }
   ],
   "source": [
    "m = sgd_reg.coef_[0]\n",
    "b = sgd_reg.intercept_[0]\n",
    "print(m, b)"
   ]
  },
  {
   "cell_type": "markdown",
   "metadata": {},
   "source": [
    "## Liniear regression with mini-batch gradient descent\n",
    "\n"
   ]
  }
 ],
 "metadata": {
  "kernelspec": {
   "display_name": "Python 3.9.12 ('sklearn')",
   "language": "python",
   "name": "python3"
  },
  "language_info": {
   "codemirror_mode": {
    "name": "ipython",
    "version": 3
   },
   "file_extension": ".py",
   "mimetype": "text/x-python",
   "name": "python",
   "nbconvert_exporter": "python",
   "pygments_lexer": "ipython3",
   "version": "3.9.12"
  },
  "orig_nbformat": 4,
  "vscode": {
   "interpreter": {
    "hash": "9538f38f86e1c1af14f72b5cea3972d45b170f7a29b6132ba67a15628d32cc38"
   }
  }
 },
 "nbformat": 4,
 "nbformat_minor": 2
}
