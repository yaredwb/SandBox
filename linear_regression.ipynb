{
 "cells": [
  {
   "cell_type": "code",
   "execution_count": 1,
   "metadata": {},
   "outputs": [],
   "source": [
    "import numpy as np\n",
    "import matplotlib.pyplot as plt\n",
    "from sklearn.linear_model import LinearRegression"
   ]
  },
  {
   "cell_type": "markdown",
   "metadata": {},
   "source": [
    "## Simple linear regression\n",
    "\n",
    "A linear regression model finds weights for a linear combination of features:\n",
    "$$\n",
    "y = w_0 + w_1 x_1 + w_2 x_2 + ... + w_n x_n = \\pmb{w} \\pmb{X}\n",
    "$$\n",
    "\n",
    "The direct solution for linear regression (called **Normal Equation**) is:\n",
    "$$\n",
    "\\hat{\\pmb{w}} = (\\pmb{X}^T \\pmb{X})^{-1} \\pmb{X}^T \\pmb{y}\n",
    "$$\n",
    "\n",
    "For predictions based on $ \\hat{\\pmb{w}} $,\n",
    "$$\n",
    "\\hat{y} = \\hat{\\pmb{w}} \\pmb{X}\n",
    "$$\n",
    "\n",
    "The mean squared error is then\n",
    "$$\n",
    "MSE = \\frac{1}{n} \\sum_{i=1}^n (\\hat{y}_i - y_i)^2\n",
    "$$"
   ]
  },
  {
   "cell_type": "code",
   "execution_count": 2,
   "metadata": {},
   "outputs": [],
   "source": [
    "# Example from Aurelien Geron's bookS\n",
    "X = 2 * np.random.rand(100, 1)\n",
    "y = 4 + 3 * X + np.random.randn(100, 1)"
   ]
  },
  {
   "cell_type": "code",
   "execution_count": 3,
   "metadata": {},
   "outputs": [
    {
     "data": {
      "text/plain": [
       "array([[4.35322994],\n",
       "       [2.6661224 ]])"
      ]
     },
     "execution_count": 3,
     "metadata": {},
     "output_type": "execute_result"
    }
   ],
   "source": [
    "# Compute the linear regression coefficients using the normal equation\n",
    "X_mod = np.c_[np.ones((100, 1)), X] # add x0 = 1 to each instance so that we also calculate w0\n",
    "w_NE = np.linalg.inv(X_mod.T.dot(X_mod)).dot(X_mod.T).dot(y) # weights using the normal equation\n",
    "w_NE"
   ]
  },
  {
   "cell_type": "code",
   "execution_count": 4,
   "metadata": {},
   "outputs": [
    {
     "data": {
      "text/plain": [
       "array([[4.35322994],\n",
       "       [9.68547473]])"
      ]
     },
     "execution_count": 4,
     "metadata": {},
     "output_type": "execute_result"
    }
   ],
   "source": [
    "# Making predictions using the weights from the normal equation\n",
    "X_test = np.array([[0], [2]])\n",
    "X_test_mod = np.c_[np.ones((2, 1)), X_test] # add x0 = 1 to each instance so that we also calculate w0\n",
    "y_predict = X_test_mod.dot(w_NE)\n",
    "y_predict"
   ]
  },
  {
   "cell_type": "code",
   "execution_count": 5,
   "metadata": {},
   "outputs": [
    {
     "data": {
      "image/png": "[encoded data removed]",
      "text/plain": [
       "<Figure size 432x288 with 1 Axes>"
      ]
     },
     "metadata": {
      "needs_background": "light"
     },
     "output_type": "display_data"
    }
   ],
   "source": [
    "plt.plot(X_test, y_predict, \"r-\")\n",
    "plt.plot(X, y, \"b.\")\n",
    "plt.axis([0, 2, 0, 15])\n",
    "plt.show()"
   ]
  },
  {
   "cell_type": "code",
   "execution_count": 6,
   "metadata": {},
   "outputs": [
    {
     "data": {
      "text/plain": [
       "(array([4.35322994]), array([[2.6661224]]))"
      ]
     },
     "execution_count": 6,
     "metadata": {},
     "output_type": "execute_result"
    }
   ],
   "source": [
    "lin_reg = LinearRegression()\n",
    "lin_reg.fit(X, y)\n",
    "lin_reg.intercept_, lin_reg.coef_"
   ]
  },
  {
   "cell_type": "code",
   "execution_count": 7,
   "metadata": {},
   "outputs": [],
   "source": [
    "X_test = np.linspace(0, 2, 100).reshape(100, 1)\n",
    "y_predict = lin_reg.predict(X_test)"
   ]
  },
  {
   "cell_type": "code",
   "execution_count": 8,
   "metadata": {},
   "outputs": [
    {
     "data": {
      "text/plain": [
       "0.9452602153104602"
      ]
     },
     "execution_count": 8,
     "metadata": {},
     "output_type": "execute_result"
    }
   ],
   "source": [
    "# Calculate the mean squared error\n",
    "y_test = 4 + 3 * X_test + np.random.randn(100, 1)\n",
    "mean_squared_error = np.mean((y_predict - y_test) ** 2)\n",
    "mean_squared_error"
   ]
  },
  {
   "cell_type": "markdown",
   "metadata": {},
   "source": [
    "## Linear regression with gradient descent "
   ]
  },
  {
   "cell_type": "markdown",
   "metadata": {},
   "source": [
    "In gradient descent alogrithms, the weights are updated using the gradient of the cost function. The weight update equation is given by:\n",
    "$$\n",
    "\\pmb{w}_{i+1} = \\pmb{w}_{i} - \\eta \\nabla_{\\pmb{w}} MSE(\\pmb{w}_{i})\n",
    "$$\n",
    "where $ \\eta $ is the learning rate."
   ]
  },
  {
   "cell_type": "code",
   "execution_count": 15,
   "metadata": {},
   "outputs": [],
   "source": [
    "eta = 0.1\n",
    "n_iterations = 1000\n",
    "m = 100\n",
    "\n",
    "w = np.random.randn(2, 1)\n",
    "for iteration in range(n_iterations):\n",
    "    gradients = 2 / m * X_mod.T.dot(X_mod.dot(w) - y)\n",
    "    w = w - eta * gradients"
   ]
  },
  {
   "cell_type": "code",
   "execution_count": 16,
   "metadata": {},
   "outputs": [
    {
     "data": {
      "text/plain": [
       "array([[4.35322994],\n",
       "       [2.6661224 ]])"
      ]
     },
     "execution_count": 16,
     "metadata": {},
     "output_type": "execute_result"
    }
   ],
   "source": [
    "w"
   ]
  },
  {
   "cell_type": "code",
   "execution_count": 11,
   "metadata": {},
   "outputs": [
    {
     "data": {
      "text/plain": [
       "array([[6.17040156]])"
      ]
     },
     "execution_count": 11,
     "metadata": {},
     "output_type": "execute_result"
    }
   ],
   "source": [
    "w"
   ]
  },
  {
   "cell_type": "code",
   "execution_count": null,
   "metadata": {},
   "outputs": [],
   "source": []
  }
 ],
 "metadata": {
  "kernelspec": {
   "display_name": "Python 3.9.12 ('sklearn')",
   "language": "python",
   "name": "python3"
  },
  "language_info": {
   "codemirror_mode": {
    "name": "ipython",
    "version": 3
   },
   "file_extension": ".py",
   "mimetype": "text/x-python",
   "name": "python",
   "nbconvert_exporter": "python",
   "pygments_lexer": "ipython3",
   "version": "3.9.12"
  },
  "orig_nbformat": 4,
  "vscode": {
   "interpreter": {
    "hash": "418eb70f16bf004c907af1cb4b403bfe204577bafcc277edf49a80211a60d828"
   }
  }
 },
 "nbformat": 4,
 "nbformat_minor": 2
}
