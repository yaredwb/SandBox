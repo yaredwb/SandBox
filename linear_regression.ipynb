{
 "cells": [
  {
   "cell_type": "code",
   "execution_count": 41,
   "metadata": {},
   "outputs": [],
   "source": [
    "import numpy as np\n",
    "import matplotlib.pyplot as plt\n",
    "from sklearn.linear_model import LinearRegression"
   ]
  },
  {
   "cell_type": "markdown",
   "metadata": {},
   "source": [
    "## Simple linear regression\n",
    "\n",
    "A linear regression model finds weights for a linear combination of features:\n",
    "$$\n",
    "y = w_0 + w_1 x_1 + w_2 x_2 + ... + w_n x_n = \\pmb{w} \\pmb{X}\n",
    "$$\n",
    "\n",
    "The direct solution for linear regression (called **Normal Equation**) is:\n",
    "$$\n",
    "\\hat{\\pmb{w}} = (\\pmb{X}^T \\pmb{X})^{-1} \\pmb{X}^T \\pmb{y}\n",
    "$$\n",
    "\n",
    "For predictions based on $ \\hat{\\pmb{w}} $,\n",
    "$$\n",
    "\\hat{y} = \\hat{\\pmb{w}} \\pmb{X}\n",
    "$$\n",
    "\n",
    "The mean squared error is then\n",
    "$$\n",
    "MSE = \\frac{1}{n} \\sum_{i=1}^n (\\hat{y}_i - y_i)^2\n",
    "$$"
   ]
  },
  {
   "cell_type": "code",
   "execution_count": 42,
   "metadata": {},
   "outputs": [],
   "source": [
    "# Example from Aurelien Geron's bookS\n",
    "X = 2 * np.random.rand(100, 1)\n",
    "y = 4 + 3 * X + np.random.randn(100, 1)"
   ]
  },
  {
   "cell_type": "code",
   "execution_count": 43,
   "metadata": {},
   "outputs": [
    {
     "data": {
      "text/plain": [
       "array([[3.72646703],\n",
       "       [3.29992274]])"
      ]
     },
     "execution_count": 43,
     "metadata": {},
     "output_type": "execute_result"
    }
   ],
   "source": [
    "# Compute the linear regression coefficients using the normal equation\n",
    "X_mod = np.c_[np.ones((100, 1)), X] # add x0 = 1 to each instance so that we also calculate w0\n",
    "w_NE = np.linalg.inv(X_mod.T.dot(X_mod)).dot(X_mod.T).dot(y) # weights using the normal equation\n",
    "w_NE"
   ]
  },
  {
   "cell_type": "code",
   "execution_count": 44,
   "metadata": {},
   "outputs": [
    {
     "data": {
      "text/plain": [
       "array([[ 3.72646703],\n",
       "       [10.32631252]])"
      ]
     },
     "execution_count": 44,
     "metadata": {},
     "output_type": "execute_result"
    }
   ],
   "source": [
    "# Making predictions using the weights from the normal equation\n",
    "X_test = np.array([[0], [2]])\n",
    "X_test_mod = np.c_[np.ones((2, 1)), X_test] # add x0 = 1 to each instance so that we also calculate w0\n",
    "y_predict = X_test_mod.dot(w_NE)\n",
    "y_predict"
   ]
  },
  {
   "cell_type": "code",
   "execution_count": 45,
   "metadata": {},
   "outputs": [
    {
     "data": {
      "image/png": "[encoded data removed]",
      "text/plain": [
       "<Figure size 432x288 with 1 Axes>"
      ]
     },
     "metadata": {
      "needs_background": "light"
     },
     "output_type": "display_data"
    }
   ],
   "source": [
    "plt.plot(X_test, y_predict, \"r-\")\n",
    "plt.plot(X, y, \"b.\")\n",
    "plt.axis([0, 2, 0, 15])\n",
    "plt.show()"
   ]
  },
  {
   "cell_type": "code",
   "execution_count": 46,
   "metadata": {},
   "outputs": [
    {
     "data": {
      "text/plain": [
       "(array([3.72646703]), array([[3.29992274]]))"
      ]
     },
     "execution_count": 46,
     "metadata": {},
     "output_type": "execute_result"
    }
   ],
   "source": [
    "lin_reg = LinearRegression()\n",
    "lin_reg.fit(X, y)\n",
    "lin_reg.intercept_, lin_reg.coef_"
   ]
  },
  {
   "cell_type": "code",
   "execution_count": 47,
   "metadata": {},
   "outputs": [],
   "source": [
    "X_test = np.linspace(0, 2, 100).reshape(100, 1)\n",
    "y_predict = lin_reg.predict(X_test)"
   ]
  },
  {
   "cell_type": "code",
   "execution_count": 48,
   "metadata": {},
   "outputs": [
    {
     "data": {
      "text/plain": [
       "1.2373677652185409"
      ]
     },
     "execution_count": 48,
     "metadata": {},
     "output_type": "execute_result"
    }
   ],
   "source": [
    "# Calculate the mean squared error\n",
    "y_test = 4 + 3 * X_test + np.random.randn(100, 1)\n",
    "mean_squared_error = np.mean((y_predict - y_test) ** 2)\n",
    "mean_squared_error"
   ]
  },
  {
   "cell_type": "markdown",
   "metadata": {},
   "source": [
    "## Linear regression with gradient descent "
   ]
  },
  {
   "cell_type": "markdown",
   "metadata": {},
   "source": [
    "In gradient descent alogrithms, the weights are updated using the gradient of the cost function. The weight update equation is given by:\n",
    "$$\n",
    "\\pmb{w}_{i+1} = \\pmb{w}_{i} - \\eta \\nabla_{\\pmb{w}} MSE(\\pmb{w}_{i})\n",
    "$$\n",
    "where $ \\eta $ is the learning rate."
   ]
  },
  {
   "cell_type": "code",
   "execution_count": 1,
   "metadata": {},
   "outputs": [],
   "source": [
    "eta = 0.1\n",
    "n_iterations = 1000\n",
    "m = 100\n",
    "\n",
    "def gradient_descent(X, y, w, eta, n_iterations):\n",
    "    \"\"\"\n",
    "    Perform gradient descent to learn theta\n",
    "    by taking n_iterations gradient steps with learning rate eta\n",
    "    \"\"\"\n",
    "    for i in range(n_iterations):\n",
    "        y_predict = X.dot(w)\n",
    "        w = w - eta * (1 / m) * X.T.dot(y_predict - y)\n",
    "    return w"
   ]
  },
  {
   "cell_type": "code",
   "execution_count": null,
   "metadata": {},
   "outputs": [],
   "source": []
  }
 ],
 "metadata": {
  "kernelspec": {
   "display_name": "Python 3.9.12 ('sklearn')",
   "language": "python",
   "name": "python3"
  },
  "language_info": {
   "codemirror_mode": {
    "name": "ipython",
    "version": 3
   },
   "file_extension": ".py",
   "mimetype": "text/x-python",
   "name": "python",
   "nbconvert_exporter": "python",
   "pygments_lexer": "ipython3",
   "version": "3.9.12"
  },
  "orig_nbformat": 4,
  "vscode": {
   "interpreter": {
    "hash": "418eb70f16bf004c907af1cb4b403bfe204577bafcc277edf49a80211a60d828"
   }
  }
 },
 "nbformat": 4,
 "nbformat_minor": 2
}
